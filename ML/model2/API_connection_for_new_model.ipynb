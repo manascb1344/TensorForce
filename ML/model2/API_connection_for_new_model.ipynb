{
 "cells": [
  {
   "cell_type": "code",
   "execution_count": 1,
   "metadata": {},
   "outputs": [
    {
     "name": "stdout",
     "output_type": "stream",
     "text": [
      "Requirement already satisfied: python-dotenv in c:\\users\\kairav\\tensorforce\\tensorforce\\lib\\site-packages (1.0.1)\n",
      "Note: you may need to restart the kernel to use updated packages.\n"
     ]
    },
    {
     "name": "stderr",
     "output_type": "stream",
     "text": [
      "WARNING: You are using pip version 21.2.3; however, version 24.3.1 is available.\n",
      "You should consider upgrading via the 'c:\\Users\\KAIRAV\\TensorForce\\TensorForce\\Scripts\\python.exe -m pip install --upgrade pip' command.\n"
     ]
    }
   ],
   "source": [
    "%pip install python-dotenv\n"
   ]
  },
  {
   "cell_type": "code",
   "execution_count": null,
   "metadata": {},
   "outputs": [],
   "source": [
    "from dotenv import load_dotenv\n",
    "import os\n",
    "\n",
    "# Load environment variables from a specific .env file\n",
    "load_dotenv(dotenv_path=r'C:\\Users\\KAIRAV\\TensorForce\\ML\\model2\\api_kairav.env')\n",
    "\n",
    "# Access the environment variables\n",
    "ALPACA_API_KEY = os.getenv('TRADING_CLIENT_KEY')\n",
    "ALPACA_SECRET_KEY = os.getenv('TRADING_CLIENT_SECRET')\n"
   ]
  },
  {
   "cell_type": "code",
   "execution_count": 8,
   "metadata": {},
   "outputs": [
    {
     "name": "stdout",
     "output_type": "stream",
     "text": [
      "Collecting fastapi\n",
      "  Downloading fastapi-0.115.6-py3-none-any.whl (94 kB)\n",
      "Requirement already satisfied: typing-extensions>=4.8.0 in c:\\users\\kairav\\tensorforce\\tensorforce\\lib\\site-packages (from fastapi) (4.12.2)\n",
      "Requirement already satisfied: pydantic!=1.8,!=1.8.1,!=2.0.0,!=2.0.1,!=2.1.0,<3.0.0,>=1.7.4 in c:\\users\\kairav\\tensorforce\\tensorforce\\lib\\site-packages (from fastapi) (2.10.2)\n",
      "Collecting starlette<0.42.0,>=0.40.0\n",
      "  Downloading starlette-0.41.3-py3-none-any.whl (73 kB)\n",
      "Requirement already satisfied: annotated-types>=0.6.0 in c:\\users\\kairav\\tensorforce\\tensorforce\\lib\\site-packages (from pydantic!=1.8,!=1.8.1,!=2.0.0,!=2.0.1,!=2.1.0,<3.0.0,>=1.7.4->fastapi) (0.7.0)\n",
      "Requirement already satisfied: pydantic-core==2.27.1 in c:\\users\\kairav\\tensorforce\\tensorforce\\lib\\site-packages (from pydantic!=1.8,!=1.8.1,!=2.0.0,!=2.0.1,!=2.1.0,<3.0.0,>=1.7.4->fastapi) (2.27.1)\n",
      "Collecting anyio<5,>=3.4.0\n",
      "  Downloading anyio-4.7.0-py3-none-any.whl (93 kB)\n",
      "Collecting sniffio>=1.1\n",
      "  Downloading sniffio-1.3.1-py3-none-any.whl (10 kB)\n",
      "Requirement already satisfied: idna>=2.8 in c:\\users\\kairav\\tensorforce\\tensorforce\\lib\\site-packages (from anyio<5,>=3.4.0->starlette<0.42.0,>=0.40.0->fastapi) (3.10)\n",
      "Requirement already satisfied: exceptiongroup>=1.0.2 in c:\\users\\kairav\\tensorforce\\tensorforce\\lib\\site-packages (from anyio<5,>=3.4.0->starlette<0.42.0,>=0.40.0->fastapi) (1.2.2)\n",
      "Installing collected packages: sniffio, anyio, starlette, fastapi\n",
      "Successfully installed anyio-4.7.0 fastapi-0.115.6 sniffio-1.3.1 starlette-0.41.3\n",
      "Note: you may need to restart the kernel to use updated packages.\n"
     ]
    },
    {
     "name": "stderr",
     "output_type": "stream",
     "text": [
      "WARNING: You are using pip version 21.2.3; however, version 24.3.1 is available.\n",
      "You should consider upgrading via the 'c:\\Users\\KAIRAV\\TensorForce\\TensorForce\\Scripts\\python.exe -m pip install --upgrade pip' command.\n"
     ]
    }
   ],
   "source": [
    "%pip install fastapi"
   ]
  },
  {
   "cell_type": "code",
   "execution_count": 11,
   "metadata": {},
   "outputs": [
    {
     "name": "stderr",
     "output_type": "stream",
     "text": [
      "WARNING:absl:Compiled the loaded model, but the compiled metrics have yet to be built. `model.compile_metrics` will be empty until you train or evaluate the model.\n"
     ]
    }
   ],
   "source": [
    "import numpy as np\n",
    "import pandas as pd\n",
    "from fastapi import FastAPI, HTTPException\n",
    "from pydantic import BaseModel\n",
    "from keras.models import load_model\n",
    "\n",
    "# Manually specify the full path to the model\n",
    "model_path = r'C:\\Users\\KAIRAV\\TensorForce\\ML\\model1\\model_99.h5'\n",
    "\n",
    "# Load LSTM model\n",
    "model = load_model(model_path)\n",
    "\n",
    "# Alpaca API placeholder (replace with actual keys)\n",
    "ALPACA_API_KEY = \"your_alpaca_api_key\"\n",
    "ALPACA_SECRET_KEY = \"your_alpaca_secret_key\"\n",
    "\n",
    "# FastAPI setup\n",
    "app = FastAPI()\n",
    "\n",
    "# Define input schema\n",
    "class PredictionRequest(BaseModel):\n",
    "    open: float\n",
    "    high: float\n",
    "    low: float\n",
    "    prev_close: float\n",
    "    volume: int\n",
    "    vwap: float\n",
    "    close: float  # Actual Close (for reference)\n",
    "\n",
    "# Define threshold values\n",
    "THRESHOLD_BUY = 1.0  # Percentage\n",
    "THRESHOLD_SELL = 1.0  # Percentage\n",
    "\n",
    "# Buy/Sell Signal Logic\n",
    "def generate_signal(data, predicted_close):\n",
    "    \"\"\"\n",
    "    Generates buy/sell signal based on thresholds and indicators.\n",
    "    \"\"\"\n",
    "    current_close = data[\"close\"]\n",
    "    change_percent = ((predicted_close - current_close) / current_close) * 100\n",
    "\n",
    "    # Threshold logic\n",
    "    buy_signal = change_percent > THRESHOLD_BUY\n",
    "    sell_signal = change_percent < -THRESHOLD_SELL\n",
    "\n",
    "    # Calculate RSI (Relative Strength Index)\n",
    "    delta = np.diff(data[\"close_prices\"])\n",
    "    gain = np.where(delta > 0, delta, 0)\n",
    "    loss = np.where(delta < 0, -delta, 0)\n",
    "\n",
    "    avg_gain = np.mean(gain[-14:])\n",
    "    avg_loss = np.mean(loss[-14:])\n",
    "    rs = avg_gain / avg_loss if avg_loss != 0 else 0\n",
    "    rsi = 100 - (100 / (1 + rs))\n",
    "\n",
    "    # Calculate Moving Averages\n",
    "    sma = np.mean(data[\"close_prices\"][-14:])\n",
    "    ema = np.mean(data[\"close_prices\"][-14:])  # For simplicity, EMA as SMA here\n",
    "\n",
    "    # MACD Calculation (Fast - Slow)\n",
    "    short_window = 12\n",
    "    long_window = 26\n",
    "    signal_window = 9\n",
    "\n",
    "    macd = np.mean(data[\"close_prices\"][-short_window:]) - np.mean(data[\"close_prices\"][-long_window:])\n",
    "    macd_signal = np.mean(data[\"close_prices\"][-signal_window:])\n",
    "\n",
    "    macd_cross = macd > macd_signal  # Check if MACD > Signal Line\n",
    "\n",
    "    # Combine Threshold with Indicators\n",
    "    buy_signal = buy_signal and (rsi < 30 or current_close > sma)\n",
    "    sell_signal = sell_signal and (rsi > 70 or current_close < sma)\n",
    "\n",
    "    return buy_signal, sell_signal, {\"rsi\": rsi, \"sma\": sma, \"ema\": ema, \"macd\": macd, \"macd_signal\": macd_signal}\n",
    "\n",
    "@app.post(\"/predict\")\n",
    "def predict(request: PredictionRequest):\n",
    "    \"\"\"\n",
    "    Predicts the closing price and generates buy/sell signals.\n",
    "    \"\"\"\n",
    "    # Prepare data for model\n",
    "    input_features = np.array([[request.open, request.high, request.low, request.prev_close, request.volume, request.vwap]])\n",
    "    input_features = np.reshape(input_features, (input_features.shape[0], 1, input_features.shape[1]))\n",
    "\n",
    "    # Model prediction\n",
    "    predicted_close = model.predict(input_features)[0][0]\n",
    "\n",
    "    # Historical close prices for indicators (mocked for simplicity)\n",
    "    historical_data = {\"close_prices\": np.random.uniform(100, 200, 100)}  # Replace with actual historical data\n",
    "\n",
    "    # Generate buy/sell signals\n",
    "    buy_signal, sell_signal, indicators = generate_signal({\"close\": request.close, **historical_data}, predicted_close)\n",
    "\n",
    "    return {\n",
    "        \"predicted_close\": predicted_close,\n",
    "        \"buy_signal\": buy_signal,\n",
    "        \"sell_signal\": sell_signal,\n",
    "        \"indicators\": indicators\n",
    "    }\n",
    "\n",
    "# Integration with Alpaca API (Placeholder)\n",
    "def place_order(signal_type: str, quantity: int, symbol: str):\n",
    "    \"\"\"\n",
    "    Places an order using Alpaca API based on the signal.\n",
    "    \"\"\"\n",
    "    import requests\n",
    "\n",
    "    headers = {\n",
    "        \"APCA-API-KEY-ID\": ALPACA_API_KEY,\n",
    "        \"APCA-API-SECRET-KEY\": ALPACA_SECRET_KEY\n",
    "    }\n",
    "\n",
    "    url = f\"https://paper-api.alpaca.markets/v2/orders\"\n",
    "    payload = {\n",
    "        \"symbol\": symbol,\n",
    "        \"qty\": quantity,\n",
    "        \"side\": signal_type,  # \"buy\" or \"sell\"\n",
    "        \"type\": \"market\",\n",
    "        \"time_in_force\": \"gtc\"  # Good 'til canceled\n",
    "    }\n",
    "\n",
    "    response = requests.post(url, json=payload, headers=headers)\n",
    "    if response.status_code == 200:\n",
    "        return {\"message\": f\"{signal_type.capitalize()} order placed successfully!\", \"details\": response.json()}\n",
    "    else:\n",
    "        raise HTTPException(status_code=response.status_code, detail=response.json())\n",
    "\n",
    "@app.post(\"/trade\")\n",
    "def trade(request: PredictionRequest):\n",
    "    \"\"\"\n",
    "    Predicts the closing price and automatically places buy/sell orders.\n",
    "    \"\"\"\n",
    "    prediction_response = predict(request)\n",
    "    symbol = \"AAPL\"  # Replace with the actual stock symbol\n",
    "    quantity = 1  # Replace with desired quantity\n",
    "\n",
    "    if prediction_response[\"buy_signal\"]:\n",
    "        return place_order(\"buy\", quantity, symbol)\n",
    "    elif prediction_response[\"sell_signal\"]:\n",
    "        return place_order(\"sell\", quantity, symbol)\n",
    "    else:\n",
    "        return {\"message\": \"No significant signal to act on.\"}\n"
   ]
  },
  {
   "cell_type": "code",
   "execution_count": null,
   "metadata": {},
   "outputs": [],
   "source": []
  }
 ],
 "metadata": {
  "kernelspec": {
   "display_name": "TensorForce",
   "language": "python",
   "name": "python3"
  },
  "language_info": {
   "codemirror_mode": {
    "name": "ipython",
    "version": 3
   },
   "file_extension": ".py",
   "mimetype": "text/x-python",
   "name": "python",
   "nbconvert_exporter": "python",
   "pygments_lexer": "ipython3",
   "version": "3.9.7"
  }
 },
 "nbformat": 4,
 "nbformat_minor": 2
}
